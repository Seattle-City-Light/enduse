{
 "cells": [
  {
   "cell_type": "code",
   "execution_count": 3,
   "id": "52f4a907-e3e7-4bbc-8fef-9b677f45b14d",
   "metadata": {},
   "outputs": [
    {
     "name": "stdout",
     "output_type": "stream",
     "text": [
      "The autoreload extension is already loaded. To reload it, use:\n",
      "  %reload_ext autoreload\n"
     ]
    }
   ],
   "source": [
    "import os\n",
    "# need to add this for relative imports to work\n",
    "os.sys.path.append('..')\n",
    "\n",
    "from enduse import stockobjects\n",
    "\n",
    "%load_ext autoreload\n",
    "%autoreload 2"
   ]
  },
  {
   "cell_type": "code",
   "execution_count": 4,
   "id": "5635919d-e5b2-43fd-9b36-91cd973ea58e",
   "metadata": {},
   "outputs": [],
   "source": [
    "path = \"./inputs/residential/\"\n",
    "\n",
    "params = {}\n",
    "\n",
    "params['saturation'] = {\n",
    "        \"file_path\" : path + \"saturation.csv\",\n",
    "        \"label\": \"Saturation\",\n",
    "        \"time_label\": \"Year\",\n",
    "        \"interpolation_label\": \"Interpolate Saturation\",\n",
    "        \"start_variable\": \"Start Saturation\",\n",
    "        \"end_variable\": \"End Saturation\",\n",
    "        \"start_time\": \"Start Year\",\n",
    "        \"end_time\": \"End Year\",\n",
    "        \"index\": [\n",
    "            \"Customer Class\", \n",
    "            \"Segment\", \n",
    "            \"Construction Vintage\", \n",
    "            \"End Use\", \n",
    "            \"Start Year\",\n",
    "            \"End Year\",\n",
    "        ],\n",
    "        \"join_on\": [\n",
    "            \"Customer Class\", \n",
    "            \"Segment\", \n",
    "            \"Construction Vintage\", \n",
    "            \"End Use\", \n",
    "            \"Year\"\n",
    "        ],\n",
    "        \"join_order\": 1,\n",
    "}"
   ]
  },
  {
   "cell_type": "code",
   "execution_count": 7,
   "id": "deada01e-a7bb-4b58-bd5e-3d8ee06d380d",
   "metadata": {},
   "outputs": [],
   "source": [
    "test = stockobjects.CommonStockObject.parse_obj(params['saturation']) "
   ]
  },
  {
   "cell_type": "code",
   "execution_count": null,
   "id": "461417bf-ea67-4aa0-826c-d6a608df47d9",
   "metadata": {},
   "outputs": [],
   "source": []
  }
 ],
 "metadata": {
  "kernelspec": {
   "display_name": "Python 3 (ipykernel)",
   "language": "python",
   "name": "python3"
  },
  "language_info": {
   "codemirror_mode": {
    "name": "ipython",
    "version": 3
   },
   "file_extension": ".py",
   "mimetype": "text/x-python",
   "name": "python",
   "nbconvert_exporter": "python",
   "pygments_lexer": "ipython3",
   "version": "3.8.12"
  }
 },
 "nbformat": 4,
 "nbformat_minor": 5
}
